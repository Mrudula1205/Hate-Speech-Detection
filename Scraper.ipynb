{
 "cells": [
  {
   "cell_type": "code",
   "execution_count": 122,
   "id": "e02aa29a",
   "metadata": {},
   "outputs": [],
   "source": [
    "from dotenv import load_dotenv\n",
    "import time, os\n",
    "from dotenv import load_dotenv\n",
    "\n",
    "load_dotenv()\n",
    "USERNAME = os.environ.get('USERNAME')\n",
    "PASSWORD = os.environ.get('PASSWORD')"
   ]
  },
  {
   "cell_type": "code",
   "execution_count": 123,
   "id": "faf84cd9",
   "metadata": {},
   "outputs": [],
   "source": [
    "PATH = r'chromedriver.exe'"
   ]
  },
  {
   "cell_type": "code",
   "execution_count": 124,
   "id": "2ce81243",
   "metadata": {},
   "outputs": [],
   "source": [
    "from selenium import webdriver\n",
    "from selenium.webdriver.chrome.service import Service\n",
    "from selenium.webdriver.chrome.options import Options\n",
    "\n",
    "options = Options()\n",
    "options.add_argument(\"--start-maximized\")  # Maximize browser window\n",
    "service = Service(PATH)\n",
    "driver = webdriver.Chrome(service=service, options=options)"
   ]
  },
  {
   "cell_type": "code",
   "execution_count": 125,
   "id": "9fc558f3",
   "metadata": {},
   "outputs": [],
   "source": [
    "url = 'https://www.instagram.com/accounts/login/'\n",
    "driver.get(url)"
   ]
  },
  {
   "cell_type": "code",
   "execution_count": 126,
   "id": "91d59627",
   "metadata": {},
   "outputs": [],
   "source": [
    "from selenium.webdriver.support.ui import WebDriverWait\n",
    "from selenium.webdriver.support import expected_conditions as EC\n",
    "from selenium.webdriver.common.by import By\n",
    "username=WebDriverWait(driver, 100).until(\n",
    "    EC.presence_of_element_located((By.NAME, \"username\"))\n",
    ")\n",
    "username.send_keys(USERNAME)\n",
    "\n",
    "password=WebDriverWait(driver, 100).until(\n",
    "    EC.presence_of_element_located((By.NAME,\"password\"))\n",
    ")\n",
    "\n",
    "password.send_keys(PASSWORD)\n",
    "time.sleep(20)\n",
    "submit=WebDriverWait(driver, 100).until(\n",
    "    EC.presence_of_element_located((By.XPATH,\"/html/body/div[2]/div/div/div[2]/div/div/div[1]/div[1]/div/section/main/div/div/div[1]/div[2]/div/form/div/div[3]/button\"))\n",
    ")\n",
    "time.sleep(3)\n",
    "submit.click()"
   ]
  },
  {
   "cell_type": "code",
   "execution_count": 173,
   "id": "29a817a3",
   "metadata": {},
   "outputs": [],
   "source": [
    "url = 'https://www.instagram.com/p/DBwQwNrNgGl/?igsh=MTAycXoyd3QzdTZvdA=='\n",
    "driver.get(url)"
   ]
  },
  {
   "cell_type": "code",
   "execution_count": 35,
   "id": "e10c93b6",
   "metadata": {},
   "outputs": [],
   "source": [
    "scrollable_element = driver.find_element(By.XPATH, '/html/body/div[2]/div/div/div[2]/div/div/div[1]/div[1]/div[1]/section/main/div/div[1]/div/div[2]/div/div[2]')\n",
    "\n",
    "# Initialize last height\n",
    "last_height = driver.execute_script(\"return arguments[0].scrollHeight\", scrollable_element)\n",
    "\n",
    "# Scroll the element to load more comments\n",
    "while True:\n",
    "    # Scroll to the bottom of the scrollable element\n",
    "    driver.execute_script(\"arguments[0].scrollTop = arguments[0].scrollHeight\", scrollable_element)\n",
    "    time.sleep(5)  # Allow time for new comments to load\n",
    "\n",
    "    # Get the new scroll height\n",
    "    new_height = driver.execute_script(\"return arguments[0].scrollHeight\", scrollable_element)\n",
    "\n",
    "    # Break the loop if no new comments are loaded\n",
    "    if new_height == last_height:\n",
    "        break\n",
    "    last_height = new_height"
   ]
  },
  {
   "cell_type": "code",
   "execution_count": 174,
   "id": "910746ad",
   "metadata": {},
   "outputs": [],
   "source": [
    "import re\n",
    "time_pattern = re.compile(r\"^\\d+[dwhm]$\")\n",
    "view_replies = re.compile(r\"^View all (\\d+)? replies\")"
   ]
  },
  {
   "cell_type": "code",
   "execution_count": 175,
   "id": "560017ce",
   "metadata": {},
   "outputs": [],
   "source": [
    "time.sleep(25)\n",
    "comments_container = driver.find_element(By.XPATH, \"/html/body/div[2]/div/div/div[2]/div/div/div[1]/div[1]/div[1]/section/main/div/div[1]/div/div[2]/div/div[2]/div/div[2]\")\n",
    "# Now find all individual comments within the container\n",
    "print(\"Done scrolling...\")\n",
    "\n",
    "\n",
    "\n",
    "username = comments_container.find_elements(By.XPATH, \".//span[contains(@class, '_ap3a _aaco _aacw _aacx _aad7 _aade')]\")\n",
    "usernames = []\n",
    "# Extract and print the text of the filtered elements\n",
    "for comment in username:\n",
    "    usernames.append(comment.text)\n",
    "\n",
    "comment = comments_container.find_elements(By.TAG_NAME, \"span\")\n",
    "\n",
    "actual_comments = []\n",
    "\n",
    "\n",
    "\n",
    "for element in comment:\n",
    "    text = element.text.strip()  # Get the text and remove extra spaces\n",
    "    # Exclude elements with irrelevant content\n",
    "    if text and \"like\" not in text.lower() and \"reply\" not in text.lower() and \"see translation\" not in text.lower() and text not in usernames and not time_pattern.match(text) and not view_replies.match(text):\n",
    "        actual_comments.append(text)\n",
    "\n",
    "# Print actual comments\n",
    "for comment in actual_comments:\n",
    "    print(comment)\n"
   ]
  },
  {
   "cell_type": "code",
   "execution_count": 177,
   "id": "0e40d240",
   "metadata": {},
   "outputs": [],
   "source": [
    "import csv\n",
    "\n",
    "# Open a CSV file for writing\n",
    "with open('instagram_comments.csv', mode='a', newline='', encoding='utf-8') as file:\n",
    "    # Define the column headers\n",
    "    writer = csv.writer(file)\n",
    "    #writer.writerow(['Comment'])\n",
    "\n",
    "    for comments in actual_comments:\n",
    "        Comment = comments\n",
    "\n",
    "        row_data = [Comment]\n",
    "        writer.writerow(row_data)\n",
    "    "
   ]
  },
  {
   "cell_type": "code",
   "execution_count": 267,
   "id": "df7ba6c8",
   "metadata": {},
   "outputs": [],
   "source": [
    "import pandas as pd\n",
    "df = pd.read_csv('instagram_comments.csv')"
   ]
  },
  {
   "cell_type": "markdown",
   "id": "e11d0a90",
   "metadata": {},
   "source": [
    "Check for blanks"
   ]
  },
  {
   "cell_type": "code",
   "execution_count": null,
   "id": "165e5185",
   "metadata": {},
   "outputs": [
    {
     "data": {
      "text/html": [
       "<div>\n",
       "<style scoped>\n",
       "    .dataframe tbody tr th:only-of-type {\n",
       "        vertical-align: middle;\n",
       "    }\n",
       "\n",
       "    .dataframe tbody tr th {\n",
       "        vertical-align: top;\n",
       "    }\n",
       "\n",
       "    .dataframe thead th {\n",
       "        text-align: right;\n",
       "    }\n",
       "</style>\n",
       "<table border=\"1\" class=\"dataframe\">\n",
       "  <thead>\n",
       "    <tr style=\"text-align: right;\">\n",
       "      <th></th>\n",
       "      <th>Comment</th>\n",
       "    </tr>\n",
       "  </thead>\n",
       "  <tbody>\n",
       "  </tbody>\n",
       "</table>\n",
       "</div>"
      ],
      "text/plain": [
       "Empty DataFrame\n",
       "Columns: [Comment]\n",
       "Index: []"
      ]
     },
     "execution_count": 270,
     "metadata": {},
     "output_type": "execute_result"
    }
   ],
   "source": [
    "df[df['Comment']==\"\"]"
   ]
  },
  {
   "cell_type": "code",
   "execution_count": 259,
   "id": "d5c93ee5",
   "metadata": {},
   "outputs": [],
   "source": [
    "df = df[df['Comment']!=\"\"]"
   ]
  },
  {
   "cell_type": "code",
   "execution_count": 181,
   "id": "26b1abf7",
   "metadata": {},
   "outputs": [],
   "source": [
    "import re\n",
    "emoji_pattern = re.compile('[\\U0001F600-\\U0001F64F'\n",
    "                           '\\U0001F300-\\U0001F5FF'\n",
    "                           '\\U0001F680-\\U0001F6FF'\n",
    "                           '\\U0001F700-\\U0001F77F'\n",
    "                           '\\U0001F780-\\U0001F7FF'\n",
    "                           '\\U0001F800-\\U0001F8FF'\n",
    "                           '\\U0001F900-\\U0001F9FF'\n",
    "                           '\\U0001FA00-\\U0001FA6F'\n",
    "                           '\\U0001FA70-\\U0001FAFF'\n",
    "                           '\\U00002702-\\U000027B0'\n",
    "                           '\\U000024C2-\\U0001F251]+')\n",
    "\n",
    "# Function to extract emojis from a string\n",
    "def delete_emojis(text):\n",
    "    return emoji_pattern.sub('', str(text))"
   ]
  },
  {
   "cell_type": "code",
   "execution_count": 182,
   "id": "d45b8316",
   "metadata": {},
   "outputs": [],
   "source": [
    "df['Comment'] = df['Comment'].apply(delete_emojis)"
   ]
  },
  {
   "cell_type": "code",
   "execution_count": 253,
   "id": "05c34038",
   "metadata": {},
   "outputs": [],
   "source": [
    "def remove_mentions(cell):\n",
    "    return ' '.join(word for word in str(cell).split() if not word.startswith('@'))\n",
    "\n",
    "# Apply the function to the entire DataFrame\n",
    "df = df.map(remove_mentions)"
   ]
  },
  {
   "cell_type": "code",
   "execution_count": 256,
   "id": "06a16516",
   "metadata": {},
   "outputs": [],
   "source": [
    "def remove_hashtag(cell):\n",
    "    return ' '.join(word.lstrip('#') if word.startswith('#') else word for word in str(cell).split())\n",
    "\n",
    "# Apply the function to the entire DataFrame\n",
    "df = df.map(remove_hashtag)"
   ]
  },
  {
   "cell_type": "code",
   "execution_count": 257,
   "id": "6a24b1f0",
   "metadata": {},
   "outputs": [
    {
     "data": {
      "text/html": [
       "<div>\n",
       "<style scoped>\n",
       "    .dataframe tbody tr th:only-of-type {\n",
       "        vertical-align: middle;\n",
       "    }\n",
       "\n",
       "    .dataframe tbody tr th {\n",
       "        vertical-align: top;\n",
       "    }\n",
       "\n",
       "    .dataframe thead th {\n",
       "        text-align: right;\n",
       "    }\n",
       "</style>\n",
       "<table border=\"1\" class=\"dataframe\">\n",
       "  <thead>\n",
       "    <tr style=\"text-align: right;\">\n",
       "      <th></th>\n",
       "      <th>Comment</th>\n",
       "    </tr>\n",
       "  </thead>\n",
       "  <tbody>\n",
       "  </tbody>\n",
       "</table>\n",
       "</div>"
      ],
      "text/plain": [
       "Empty DataFrame\n",
       "Columns: [Comment]\n",
       "Index: []"
      ]
     },
     "execution_count": 257,
     "metadata": {},
     "output_type": "execute_result"
    }
   ],
   "source": [
    "def contains_mention(cell):\n",
    "    return any(word.startswith('#') for word in str(cell).split())\n",
    "\n",
    "# Filter rows where any cell contains a word starting with '@'\n",
    "df[df.map(contains_mention).any(axis=1)]"
   ]
  },
  {
   "cell_type": "code",
   "execution_count": 263,
   "id": "c5049d42",
   "metadata": {},
   "outputs": [],
   "source": [
    "df.to_csv('instagram_comments.csv', index=False)"
   ]
  }
 ],
 "metadata": {
  "kernelspec": {
   "display_name": "Python 3 (ipykernel)",
   "language": "python",
   "name": "python3"
  }
 },
 "nbformat": 4,
 "nbformat_minor": 5
}
